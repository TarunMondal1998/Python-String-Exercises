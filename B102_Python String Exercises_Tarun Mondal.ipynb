{
 "cells": [
  {
   "cell_type": "markdown",
   "id": "90dd4d95",
   "metadata": {},
   "source": [
    "### 1. Write a Python program to calculate the length of a string."
   ]
  },
  {
   "cell_type": "code",
   "execution_count": 1,
   "id": "355549fa",
   "metadata": {},
   "outputs": [
    {
     "name": "stdout",
     "output_type": "stream",
     "text": [
      "Enter the string: Tutor Joes\n"
     ]
    }
   ],
   "source": [
    "string = input(\"Enter the string: \")"
   ]
  },
  {
   "cell_type": "code",
   "execution_count": 2,
   "id": "98f785f6",
   "metadata": {},
   "outputs": [
    {
     "name": "stdout",
     "output_type": "stream",
     "text": [
      "Length of String = 10\n"
     ]
    }
   ],
   "source": [
    "print(f\"Length of String = {len(string)}\")"
   ]
  },
  {
   "cell_type": "markdown",
   "id": "45419192",
   "metadata": {},
   "source": [
    "### 2. Write a Python program to count the number of characters (character frequency) in a string."
   ]
  },
  {
   "cell_type": "code",
   "execution_count": 3,
   "id": "d9bf693e",
   "metadata": {},
   "outputs": [],
   "source": [
    "string = \"tutorjoes\""
   ]
  },
  {
   "cell_type": "code",
   "execution_count": 4,
   "id": "e7cf1a3f",
   "metadata": {},
   "outputs": [
    {
     "name": "stdout",
     "output_type": "stream",
     "text": [
      "t: 2, u: 1, o: 2, r: 1, j: 1, e: 1, s: 1\n"
     ]
    }
   ],
   "source": [
    "print(f\"t: {string.count('t')}, u: {string.count('u')}, o: {string.count('o')}, r: {string.count('r')}, j: {string.count('j')}, e: {string.count('e')}, s: {string.count('s')}\")"
   ]
  },
  {
   "cell_type": "markdown",
   "id": "860cc00c",
   "metadata": {},
   "source": [
    "### 3. Write a Python program to get a string from a given string where all occurrences of its first char have been changed to '@', except the first char itself."
   ]
  },
  {
   "cell_type": "code",
   "execution_count": 5,
   "id": "d384a359",
   "metadata": {},
   "outputs": [
    {
     "name": "stdout",
     "output_type": "stream",
     "text": [
      "Given String = tutor joes\n"
     ]
    }
   ],
   "source": [
    "string = input(\"Given String = \")"
   ]
  },
  {
   "cell_type": "code",
   "execution_count": 6,
   "id": "38b1e8f3",
   "metadata": {},
   "outputs": [
    {
     "name": "stdout",
     "output_type": "stream",
     "text": [
      "After String =  tu@or joes\n"
     ]
    }
   ],
   "source": [
    "first_char = string[0]\n",
    "After_String = first_char + string[1:].replace(first_char, '@')\n",
    "print(\"After String = \", After_String)"
   ]
  },
  {
   "cell_type": "markdown",
   "id": "d311c7d7",
   "metadata": {},
   "source": [
    "### 4. Write a Python program to get a single string from two given strings, separated by a space and swap the first two characters of each string."
   ]
  },
  {
   "cell_type": "code",
   "execution_count": 7,
   "id": "f56dd1aa",
   "metadata": {},
   "outputs": [
    {
     "name": "stdout",
     "output_type": "stream",
     "text": [
      "Before Swap = abc xyz\n"
     ]
    }
   ],
   "source": [
    "string1 = \"abc\"\n",
    "string2 = \"xyz\"\n",
    "single_string = string1+' '+string2\n",
    "print (\"Before Swap =\", single_string)"
   ]
  },
  {
   "cell_type": "code",
   "execution_count": 8,
   "id": "c0fd3105",
   "metadata": {},
   "outputs": [
    {
     "data": {
      "text/plain": [
       "'ab'"
      ]
     },
     "execution_count": 8,
     "metadata": {},
     "output_type": "execute_result"
    }
   ],
   "source": [
    "stringset1 = string1[0]+string1[1]\n",
    "stringset1"
   ]
  },
  {
   "cell_type": "code",
   "execution_count": 9,
   "id": "81a3448e",
   "metadata": {},
   "outputs": [
    {
     "data": {
      "text/plain": [
       "'xy'"
      ]
     },
     "execution_count": 9,
     "metadata": {},
     "output_type": "execute_result"
    }
   ],
   "source": [
    "stringset2 = string2[0]+string2[1]\n",
    "stringset2"
   ]
  },
  {
   "cell_type": "code",
   "execution_count": 10,
   "id": "7d1a7c5e",
   "metadata": {},
   "outputs": [
    {
     "name": "stdout",
     "output_type": "stream",
     "text": [
      "After swap = xyc abz\n"
     ]
    }
   ],
   "source": [
    "after_swap = stringset2+string1[2]+ ' '+stringset1+string2[2]\n",
    "print(\"After swap =\", after_swap)"
   ]
  },
  {
   "cell_type": "markdown",
   "id": "465a49a3",
   "metadata": {},
   "source": [
    "### 5. Write a Python program to remove the nth index character from a nonempty string."
   ]
  },
  {
   "cell_type": "code",
   "execution_count": 11,
   "id": "dffe0f45",
   "metadata": {},
   "outputs": [
    {
     "name": "stdout",
     "output_type": "stream",
     "text": [
      "Enter the string: Tutor Joes\n"
     ]
    }
   ],
   "source": [
    "a = input(\"Enter the string: \")"
   ]
  },
  {
   "cell_type": "code",
   "execution_count": 12,
   "id": "c1840a24",
   "metadata": {},
   "outputs": [],
   "source": [
    "b = a.replace(a[2], '')"
   ]
  },
  {
   "cell_type": "code",
   "execution_count": 13,
   "id": "5328bfa1",
   "metadata": {},
   "outputs": [
    {
     "name": "stdout",
     "output_type": "stream",
     "text": [
      "Before Remove = Tutor Joes\n",
      "After Remove = Tuor Joes\n"
     ]
    }
   ],
   "source": [
    "print (\"Before Remove =\", a)\n",
    "print (\"After Remove =\", b)"
   ]
  },
  {
   "cell_type": "markdown",
   "id": "a23311ef",
   "metadata": {},
   "source": [
    "### 6. Write a Python program to change a given string to a new string where the first and last chars have been exchanged"
   ]
  },
  {
   "cell_type": "code",
   "execution_count": 14,
   "id": "1c6ffbc3",
   "metadata": {},
   "outputs": [
    {
     "name": "stdout",
     "output_type": "stream",
     "text": [
      "Enter the string: Python\n"
     ]
    }
   ],
   "source": [
    "Before_Exchange = input(\"Enter the string: \")"
   ]
  },
  {
   "cell_type": "code",
   "execution_count": 15,
   "id": "34e7cab0",
   "metadata": {},
   "outputs": [],
   "source": [
    "first_char = Before_Exchange[0]\n",
    "last_char = Before_Exchange[-1]\n",
    "middle_part = Before_Exchange[1:-1]\n",
    "After_Exchange = last_char+middle_part+first_char"
   ]
  },
  {
   "cell_type": "code",
   "execution_count": 16,
   "id": "cc86a5a9",
   "metadata": {},
   "outputs": [
    {
     "name": "stdout",
     "output_type": "stream",
     "text": [
      "Before Exchange =  Python\n",
      "After Exchange =  nythoP\n"
     ]
    }
   ],
   "source": [
    "print(\"Before Exchange = \", Before_Exchange)\n",
    "print(\"After Exchange = \", After_Exchange)"
   ]
  },
  {
   "cell_type": "markdown",
   "id": "f196ef40",
   "metadata": {},
   "source": [
    "### 7. Write a Python program to remove the characters which have odd index values of a given string"
   ]
  },
  {
   "cell_type": "code",
   "execution_count": 17,
   "id": "b8708fab",
   "metadata": {},
   "outputs": [],
   "source": [
    "original_string = \"Computer Education\""
   ]
  },
  {
   "cell_type": "code",
   "execution_count": 18,
   "id": "dc39a4e0",
   "metadata": {},
   "outputs": [
    {
     "name": "stdout",
     "output_type": "stream",
     "text": [
      "Cmue dcto\n"
     ]
    }
   ],
   "source": [
    "remove_string = \"\"\n",
    "for i in range(len(original_string)):  \n",
    "    if i % 2 == 0:  \n",
    "      remove_string = remove_string + original_string[i]\n",
    "print(remove_string)"
   ]
  },
  {
   "cell_type": "markdown",
   "id": "fda7737f",
   "metadata": {},
   "source": [
    "### 8. Write a Python program to count the occurrences of each word in a given sentence"
   ]
  },
  {
   "cell_type": "code",
   "execution_count": 19,
   "id": "2f9a5873",
   "metadata": {},
   "outputs": [],
   "source": [
    "sentence = \"To change the overall look your document. To change the look available in the gallery\""
   ]
  },
  {
   "cell_type": "code",
   "execution_count": 20,
   "id": "4c79c334",
   "metadata": {
    "scrolled": true
   },
   "outputs": [
    {
     "data": {
      "text/plain": [
       "['To',\n",
       " 'change',\n",
       " 'the',\n",
       " 'overall',\n",
       " 'look',\n",
       " 'your',\n",
       " 'document.',\n",
       " 'To',\n",
       " 'change',\n",
       " 'the',\n",
       " 'look',\n",
       " 'available',\n",
       " 'in',\n",
       " 'the',\n",
       " 'gallery']"
      ]
     },
     "execution_count": 20,
     "metadata": {},
     "output_type": "execute_result"
    }
   ],
   "source": [
    "splitted_sentence = sentence.split(' ')\n",
    "splitted_sentence"
   ]
  },
  {
   "cell_type": "code",
   "execution_count": 21,
   "id": "55fdfb94",
   "metadata": {},
   "outputs": [
    {
     "name": "stdout",
     "output_type": "stream",
     "text": [
      "To: 2, change: 2, the: 3, overall: 1, look: 2, your: 1, document.: 1, available: 0, in: 1,gallery: 1\n"
     ]
    }
   ],
   "source": [
    "print(f\"To: {splitted_sentence.count('To')}, change: {splitted_sentence.count('change')}, the: {splitted_sentence.count('the')}, overall: {splitted_sentence.count('overall')}, look: {splitted_sentence.count('look')}, your: {splitted_sentence.count('your')}, document.: {splitted_sentence.count('document.')}, available: {splitted_sentence.count('available.')}, in: {splitted_sentence.count('in')},gallery: {splitted_sentence.count('gallery')}\")"
   ]
  },
  {
   "cell_type": "markdown",
   "id": "78c783bd",
   "metadata": {},
   "source": [
    "### 9. Write a Python script that takes input from the user and displays that input back in upper and lower cases."
   ]
  },
  {
   "cell_type": "code",
   "execution_count": 22,
   "id": "2443ac1b",
   "metadata": {},
   "outputs": [
    {
     "name": "stdout",
     "output_type": "stream",
     "text": [
      "Your input:Tutor Joes\n"
     ]
    }
   ],
   "source": [
    "var = input(\"Your input:\")"
   ]
  },
  {
   "cell_type": "code",
   "execution_count": 23,
   "id": "93a5fd9e",
   "metadata": {},
   "outputs": [
    {
     "name": "stdout",
     "output_type": "stream",
     "text": [
      "tutor joes\n"
     ]
    }
   ],
   "source": [
    "lower_case = var.lower()\n",
    "print(lower_case)"
   ]
  },
  {
   "cell_type": "code",
   "execution_count": 24,
   "id": "0ca7c212",
   "metadata": {},
   "outputs": [
    {
     "name": "stdout",
     "output_type": "stream",
     "text": [
      "TUTOR JOES\n"
     ]
    }
   ],
   "source": [
    "upper_case = var.upper()\n",
    "print(upper_case)"
   ]
  },
  {
   "cell_type": "markdown",
   "id": "d846d7ab",
   "metadata": {},
   "source": [
    "### 10. Write a Python function to reverses a string if it's length is a multiple of 4."
   ]
  },
  {
   "cell_type": "code",
   "execution_count": 25,
   "id": "052e9eab",
   "metadata": {},
   "outputs": [],
   "source": [
    "# Test case 1"
   ]
  },
  {
   "cell_type": "code",
   "execution_count": 26,
   "id": "2dec94fe",
   "metadata": {},
   "outputs": [
    {
     "name": "stdout",
     "output_type": "stream",
     "text": [
      "Enter a string to check:Computer\n"
     ]
    }
   ],
   "source": [
    "input_string = input(\"Enter a string to check:\")"
   ]
  },
  {
   "cell_type": "code",
   "execution_count": 27,
   "id": "8e88b6b3",
   "metadata": {},
   "outputs": [
    {
     "name": "stdout",
     "output_type": "stream",
     "text": [
      "retupmoC\n"
     ]
    }
   ],
   "source": [
    "if len(input_string)%4==0:\n",
    "    input_string[::-1]\n",
    "    print(input_string[::-1])\n",
    "else:\n",
    "    print(input_string)"
   ]
  },
  {
   "cell_type": "code",
   "execution_count": 28,
   "id": "0d318467",
   "metadata": {},
   "outputs": [],
   "source": [
    "# Test case 2"
   ]
  },
  {
   "cell_type": "code",
   "execution_count": 29,
   "id": "29bdbf42",
   "metadata": {},
   "outputs": [
    {
     "name": "stdout",
     "output_type": "stream",
     "text": [
      "Enter a string to check:Science\n"
     ]
    }
   ],
   "source": [
    "input_string = input(\"Enter a string to check:\")"
   ]
  },
  {
   "cell_type": "code",
   "execution_count": 30,
   "id": "f4104ef5",
   "metadata": {},
   "outputs": [
    {
     "name": "stdout",
     "output_type": "stream",
     "text": [
      "Science\n"
     ]
    }
   ],
   "source": [
    "if len(input_string)%4==0:\n",
    "    input_string[::-1]\n",
    "    print(input_string[::-1])\n",
    "else:\n",
    "    print(input_string)"
   ]
  },
  {
   "cell_type": "markdown",
   "id": "f0cdfa66",
   "metadata": {},
   "source": [
    "### 11. Write a Python function to convert a given string to all uppercase if it contains at least 2 uppercase characters in the first 4 characters."
   ]
  },
  {
   "cell_type": "code",
   "execution_count": 31,
   "id": "20ba5b96",
   "metadata": {},
   "outputs": [],
   "source": [
    "# Test case 1"
   ]
  },
  {
   "cell_type": "code",
   "execution_count": 32,
   "id": "67f8d279",
   "metadata": {},
   "outputs": [
    {
     "name": "stdout",
     "output_type": "stream",
     "text": [
      "Enter the string to check:ComPuTeR\n"
     ]
    }
   ],
   "source": [
    "input_string1 = input(\"Enter the string to check:\")"
   ]
  },
  {
   "cell_type": "code",
   "execution_count": 33,
   "id": "5ec4d78e",
   "metadata": {},
   "outputs": [
    {
     "name": "stdout",
     "output_type": "stream",
     "text": [
      "COMPUTER\n"
     ]
    }
   ],
   "source": [
    "if sum(1 for char in input_string1 if char.isupper())>=len(input_string1 [0:3].upper()):\n",
    "    input_string_upper = input_string1.upper()\n",
    "    print(input_string_upper)\n",
    "else:\n",
    "    print(input_string1)"
   ]
  },
  {
   "cell_type": "code",
   "execution_count": 34,
   "id": "eed1f4c8",
   "metadata": {},
   "outputs": [],
   "source": [
    "# Test case 2"
   ]
  },
  {
   "cell_type": "code",
   "execution_count": 35,
   "id": "4a14041c",
   "metadata": {},
   "outputs": [
    {
     "name": "stdout",
     "output_type": "stream",
     "text": [
      "Enter the string to check:Computer\n"
     ]
    }
   ],
   "source": [
    "input_string1 = input(\"Enter the string to check:\")"
   ]
  },
  {
   "cell_type": "code",
   "execution_count": 36,
   "id": "6205a763",
   "metadata": {},
   "outputs": [
    {
     "name": "stdout",
     "output_type": "stream",
     "text": [
      "Computer\n"
     ]
    }
   ],
   "source": [
    "if sum(1 for char in input_string1 if char.isupper())>=len(input_string1 [0:3].upper()):\n",
    "    input_string_upper = input_string1.upper()\n",
    "    print(input_string_upper)\n",
    "else:\n",
    "    print(input_string1)"
   ]
  },
  {
   "cell_type": "markdown",
   "id": "c46ebff8",
   "metadata": {},
   "source": [
    "### 12. Write a Python program to sort a string lexicographically."
   ]
  },
  {
   "cell_type": "code",
   "execution_count": 37,
   "id": "e14d4d44",
   "metadata": {},
   "outputs": [
    {
     "name": "stdout",
     "output_type": "stream",
     "text": [
      "Enter the string: Tutor\n",
      "Original List: ['T', 'u', 't', 'o', 'r']\n",
      "Sorted List:\n",
      "T\n",
      "o\n",
      "r\n",
      "t\n",
      "u\n"
     ]
    }
   ],
   "source": [
    "p = input(\"Enter the string: \")\n",
    "p_sorting = list(p)\n",
    "print(\"Original List:\", p_sorting)\n",
    "\n",
    "lexicographical_sorting = sorted(p_sorting)\n",
    "print(\"Sorted List:\")\n",
    "for char in lexicographical_sorting:\n",
    "    print(char)"
   ]
  },
  {
   "cell_type": "markdown",
   "id": "ad3d014b",
   "metadata": {},
   "source": [
    "### 13. Write a Python program to remove a newline in Python."
   ]
  },
  {
   "cell_type": "code",
   "execution_count": 38,
   "id": "d1810c0d",
   "metadata": {},
   "outputs": [],
   "source": [
    "line = \"\\nTutor \\nJoes \\nComputer \\nEducation\\n\""
   ]
  },
  {
   "cell_type": "code",
   "execution_count": 39,
   "id": "9d89eb4d",
   "metadata": {},
   "outputs": [],
   "source": [
    "line1=line.split('\\n')"
   ]
  },
  {
   "cell_type": "code",
   "execution_count": 40,
   "id": "67d54e70",
   "metadata": {},
   "outputs": [
    {
     "name": "stdout",
     "output_type": "stream",
     "text": [
      "['', 'Tutor ', 'Joes ', 'Computer ', 'Education', '']\n"
     ]
    }
   ],
   "source": [
    "print(line1)"
   ]
  },
  {
   "cell_type": "code",
   "execution_count": 41,
   "id": "bdb67f8f",
   "metadata": {},
   "outputs": [],
   "source": [
    "#line1.remove(line1[0])"
   ]
  },
  {
   "cell_type": "code",
   "execution_count": 42,
   "id": "1292c61a",
   "metadata": {},
   "outputs": [],
   "source": [
    "line1.remove(line1[-1])"
   ]
  },
  {
   "cell_type": "code",
   "execution_count": 43,
   "id": "470cb4b3",
   "metadata": {},
   "outputs": [
    {
     "data": {
      "text/plain": [
       "['Tutor ', 'Joes ', 'Computer ', 'Education', '']"
      ]
     },
     "execution_count": 43,
     "metadata": {},
     "output_type": "execute_result"
    }
   ],
   "source": [
    "line1"
   ]
  },
  {
   "cell_type": "code",
   "execution_count": 44,
   "id": "76d3aa15",
   "metadata": {},
   "outputs": [
    {
     "data": {
      "text/plain": [
       "'Tutor Joes Computer Education'"
      ]
     },
     "execution_count": 44,
     "metadata": {},
     "output_type": "execute_result"
    }
   ],
   "source": [
    "line1[0]+line1[1]+line1[2]+line1[3]"
   ]
  },
  {
   "cell_type": "markdown",
   "id": "5d38caaa",
   "metadata": {},
   "source": [
    "### 14. Write a Python program to check whether a string starts with specified characters."
   ]
  },
  {
   "cell_type": "code",
   "execution_count": 45,
   "id": "e3eedff1",
   "metadata": {},
   "outputs": [],
   "source": [
    "user_input = \"Tutor Joes Computer Education\""
   ]
  },
  {
   "cell_type": "code",
   "execution_count": 46,
   "id": "dd9dfdc0",
   "metadata": {},
   "outputs": [
    {
     "data": {
      "text/plain": [
       "True"
      ]
     },
     "execution_count": 46,
     "metadata": {},
     "output_type": "execute_result"
    }
   ],
   "source": [
    "user_input.startswith('Tu')"
   ]
  },
  {
   "cell_type": "markdown",
   "id": "648b8a2c",
   "metadata": {},
   "source": [
    "### 15. Write a Python program to display formatted text (width=35,70) as output"
   ]
  },
  {
   "cell_type": "code",
   "execution_count": 47,
   "id": "ff63d24c",
   "metadata": {},
   "outputs": [
    {
     "name": "stdout",
     "output_type": "stream",
     "text": [
      "Enter the paragraph:Python is an interpreted, object-oriented, high-level programming language that can be used for a wide variety of applications. Python is a powerful general-purpose programming language.\n"
     ]
    }
   ],
   "source": [
    "paragraph = input(\"Enter the paragraph:\")"
   ]
  },
  {
   "cell_type": "code",
   "execution_count": 48,
   "id": "54c93f69",
   "metadata": {},
   "outputs": [],
   "source": [
    "import textwrap"
   ]
  },
  {
   "cell_type": "code",
   "execution_count": 49,
   "id": "264493ad",
   "metadata": {},
   "outputs": [],
   "source": [
    "# Wrapping text to width 35\n",
    "wrapper1 = textwrap.TextWrapper(width=35)\n",
    "formatted_text1 = wrapper1.fill(paragraph)"
   ]
  },
  {
   "cell_type": "code",
   "execution_count": 50,
   "id": "bc420a2b",
   "metadata": {},
   "outputs": [
    {
     "name": "stdout",
     "output_type": "stream",
     "text": [
      "Formatted text (width=35):\n",
      "Python is an interpreted, object-\n",
      "oriented, high-level programming\n",
      "language that can be used for a\n",
      "wide variety of applications.\n",
      "Python is a powerful general-\n",
      "purpose programming language.\n"
     ]
    }
   ],
   "source": [
    "# Displaying the formatted text\n",
    "print(\"Formatted text (width=35):\")\n",
    "print(formatted_text1)"
   ]
  },
  {
   "cell_type": "code",
   "execution_count": 51,
   "id": "2f868f22",
   "metadata": {},
   "outputs": [],
   "source": [
    "# Wrapping text to width 70\n",
    "wrapper2 = textwrap.TextWrapper(width=70)\n",
    "formatted_text2 = wrapper2.fill(paragraph)"
   ]
  },
  {
   "cell_type": "code",
   "execution_count": 52,
   "id": "28597e32",
   "metadata": {},
   "outputs": [
    {
     "name": "stdout",
     "output_type": "stream",
     "text": [
      "\n",
      "Formatted text (width=70):\n",
      "Python is an interpreted, object-oriented, high-level programming\n",
      "language that can be used for a wide variety of applications. Python\n",
      "is a powerful general-purpose programming language.\n"
     ]
    }
   ],
   "source": [
    "print(\"\\nFormatted text (width=70):\")\n",
    "print(formatted_text2)"
   ]
  },
  {
   "cell_type": "markdown",
   "id": "3af72f35",
   "metadata": {},
   "source": [
    "### 16. Write a Python program to remove existing indentation from all of the lines in a given text."
   ]
  },
  {
   "cell_type": "code",
   "execution_count": 53,
   "id": "9a65effd",
   "metadata": {},
   "outputs": [],
   "source": [
    "paragraph_with_indentation = \"\"\"\n",
    "              Python is an interpreted, object-oriented, high-level programming language\n",
    "              that can be used for a wide variety of applications. Python is a powerful\n",
    "              general-purpose programming language.\n",
    "\"\"\""
   ]
  },
  {
   "cell_type": "code",
   "execution_count": 54,
   "id": "52f97b90",
   "metadata": {},
   "outputs": [],
   "source": [
    "import textwrap"
   ]
  },
  {
   "cell_type": "code",
   "execution_count": 55,
   "id": "d2e685ab",
   "metadata": {},
   "outputs": [
    {
     "name": "stdout",
     "output_type": "stream",
     "text": [
      "Dedented text: \n",
      "Python is an interpreted, object-oriented, high-level programming language\n",
      "that can be used for a wide variety of applications. Python is a powerful\n",
      "general-purpose programming language.\n",
      "\n"
     ]
    }
   ],
   "source": [
    "print (\"Dedented text:\",textwrap.dedent(paragraph_with_indentation))"
   ]
  },
  {
   "cell_type": "markdown",
   "id": "71fed708",
   "metadata": {},
   "source": [
    "### 17. Write a Python program to add a prefix text to all of the lines in a string."
   ]
  },
  {
   "cell_type": "code",
   "execution_count": 56,
   "id": "804c5663",
   "metadata": {},
   "outputs": [],
   "source": [
    "paragraph_wo_prefix = \"\"\"\n",
    "              Python is an interpreted, object-oriented, high-level programming language\n",
    "              that can be used for a wide variety of applications. Python is a powerful\n",
    "              general-purpose programming language.\n",
    "\"\"\""
   ]
  },
  {
   "cell_type": "code",
   "execution_count": 57,
   "id": "0e637c9b",
   "metadata": {},
   "outputs": [],
   "source": [
    "paragraph_with_prefix = paragraph_wo_prefix.replace('    ', '*')"
   ]
  },
  {
   "cell_type": "code",
   "execution_count": 58,
   "id": "9cb33ff3",
   "metadata": {},
   "outputs": [
    {
     "name": "stdout",
     "output_type": "stream",
     "text": [
      "\n",
      "***  Python is an interpreted, object-oriented, high-level programming language\n",
      "***  that can be used for a wide variety of applications. Python is a powerful\n",
      "***  general-purpose programming language.\n",
      "\n"
     ]
    }
   ],
   "source": [
    "print (paragraph_with_prefix)"
   ]
  }
 ],
 "metadata": {
  "kernelspec": {
   "display_name": "Python 3 (ipykernel)",
   "language": "python",
   "name": "python3"
  },
  "language_info": {
   "codemirror_mode": {
    "name": "ipython",
    "version": 3
   },
   "file_extension": ".py",
   "mimetype": "text/x-python",
   "name": "python",
   "nbconvert_exporter": "python",
   "pygments_lexer": "ipython3",
   "version": "3.9.13"
  }
 },
 "nbformat": 4,
 "nbformat_minor": 5
}
